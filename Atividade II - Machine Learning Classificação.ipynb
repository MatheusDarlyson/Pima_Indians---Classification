{
 "cells": [
  {
   "cell_type": "markdown",
   "metadata": {},
   "source": [
    "### Análise de Dados: Pima Indians Diabetes Dataset\n",
    "\n",
    "#### Fonte [Kaggle - Pima Indians diabetes database](https://www.kaggle.com/datasets/uciml/pima-indians-diabetes-database)\n",
    "\n",
    "\n",
    "\n",
    "Este conjunto de dados é originalmente do **National Institute of Diabetes and Digestive and Kidney Diseases (Instituto Nacional de Diabetes e Doenças Digestivas e Renais)**. \n",
    "\n",
    "O objetivo do conjunto de dados é **prever, de forma diagnóstica, se um paciente tem ou não diabetes**, com base em determinadas medições diagnósticas incluídas no conjunto. \n",
    "\n",
    "Várias restrições foram impostas na seleção dessas instâncias a partir de um banco de dados maior. Em particular, **todas as pacientes aqui são mulheres com pelo menos 21 anos de idade e de origem indígena Pima**.\n",
    "\n"
   ]
  },
  {
   "cell_type": "markdown",
   "metadata": {},
   "source": [
    "## *Importação das Bibliotecas*\n"
   ]
  },
  {
   "cell_type": "code",
   "execution_count": 3,
   "metadata": {},
   "outputs": [],
   "source": [
    "import pandas as pd\n",
    "import numpy as np\n",
    "import seaborn as sns\n",
    "\n",
    "import matplotlib.pyplot as plt\n",
    "from matplotlib.colors import ListedColormap\n",
    "\n",
    "from sklearn.metrics import accuracy_score\n",
    "from sklearn.metrics import precision_score\n",
    "from sklearn.model_selection import train_test_split\n",
    "\n",
    "from sklearn.svm import SVC\n",
    "from sklearn.neighbors import KNeighborsClassifier\n",
    "from sklearn.ensemble import RandomForestClassifier"
   ]
  },
  {
   "cell_type": "markdown",
   "metadata": {},
   "source": [
    "## *Import dos dados*"
   ]
  },
  {
   "cell_type": "markdown",
   "metadata": {},
   "source": [
    "1. Coleta dos dados"
   ]
  },
  {
   "cell_type": "code",
   "execution_count": 21,
   "metadata": {},
   "outputs": [
    {
     "data": {
      "text/html": [
       "<div>\n",
       "<style scoped>\n",
       "    .dataframe tbody tr th:only-of-type {\n",
       "        vertical-align: middle;\n",
       "    }\n",
       "\n",
       "    .dataframe tbody tr th {\n",
       "        vertical-align: top;\n",
       "    }\n",
       "\n",
       "    .dataframe thead th {\n",
       "        text-align: right;\n",
       "    }\n",
       "</style>\n",
       "<table border=\"1\" class=\"dataframe\">\n",
       "  <thead>\n",
       "    <tr style=\"text-align: right;\">\n",
       "      <th></th>\n",
       "      <th>Pregnancies</th>\n",
       "      <th>Glucose</th>\n",
       "      <th>BloodPressure</th>\n",
       "      <th>SkinThickness</th>\n",
       "      <th>Insulin</th>\n",
       "      <th>BMI</th>\n",
       "      <th>DiabetesPedigreeFunction</th>\n",
       "      <th>Age</th>\n",
       "      <th>Outcome</th>\n",
       "    </tr>\n",
       "  </thead>\n",
       "  <tbody>\n",
       "    <tr>\n",
       "      <th>0</th>\n",
       "      <td>6</td>\n",
       "      <td>148</td>\n",
       "      <td>72</td>\n",
       "      <td>35</td>\n",
       "      <td>0</td>\n",
       "      <td>33.6</td>\n",
       "      <td>0.627</td>\n",
       "      <td>50</td>\n",
       "      <td>1</td>\n",
       "    </tr>\n",
       "    <tr>\n",
       "      <th>1</th>\n",
       "      <td>1</td>\n",
       "      <td>85</td>\n",
       "      <td>66</td>\n",
       "      <td>29</td>\n",
       "      <td>0</td>\n",
       "      <td>26.6</td>\n",
       "      <td>0.351</td>\n",
       "      <td>31</td>\n",
       "      <td>0</td>\n",
       "    </tr>\n",
       "    <tr>\n",
       "      <th>2</th>\n",
       "      <td>8</td>\n",
       "      <td>183</td>\n",
       "      <td>64</td>\n",
       "      <td>0</td>\n",
       "      <td>0</td>\n",
       "      <td>23.3</td>\n",
       "      <td>0.672</td>\n",
       "      <td>32</td>\n",
       "      <td>1</td>\n",
       "    </tr>\n",
       "    <tr>\n",
       "      <th>3</th>\n",
       "      <td>1</td>\n",
       "      <td>89</td>\n",
       "      <td>66</td>\n",
       "      <td>23</td>\n",
       "      <td>94</td>\n",
       "      <td>28.1</td>\n",
       "      <td>0.167</td>\n",
       "      <td>21</td>\n",
       "      <td>0</td>\n",
       "    </tr>\n",
       "    <tr>\n",
       "      <th>4</th>\n",
       "      <td>0</td>\n",
       "      <td>137</td>\n",
       "      <td>40</td>\n",
       "      <td>35</td>\n",
       "      <td>168</td>\n",
       "      <td>43.1</td>\n",
       "      <td>2.288</td>\n",
       "      <td>33</td>\n",
       "      <td>1</td>\n",
       "    </tr>\n",
       "  </tbody>\n",
       "</table>\n",
       "</div>"
      ],
      "text/plain": [
       "   Pregnancies  Glucose  BloodPressure  SkinThickness  Insulin   BMI  \\\n",
       "0            6      148             72             35        0  33.6   \n",
       "1            1       85             66             29        0  26.6   \n",
       "2            8      183             64              0        0  23.3   \n",
       "3            1       89             66             23       94  28.1   \n",
       "4            0      137             40             35      168  43.1   \n",
       "\n",
       "   DiabetesPedigreeFunction  Age  Outcome  \n",
       "0                     0.627   50        1  \n",
       "1                     0.351   31        0  \n",
       "2                     0.672   32        1  \n",
       "3                     0.167   21        0  \n",
       "4                     2.288   33        1  "
      ]
     },
     "execution_count": 21,
     "metadata": {},
     "output_type": "execute_result"
    }
   ],
   "source": [
    "# URL do dataset no formato .csv\n",
    "url = \"https://raw.githubusercontent.com/jbrownlee/Datasets/master/pima-indians-diabetes.data.csv\"\n",
    "\n",
    "# Nomes das colunas (o dataset original não possui cabeçalhos)\n",
    "column_names = ['Pregnancies', 'Glucose', 'BloodPressure', 'SkinThickness', 'Insulin', 'BMI', 'DiabetesPedigreeFunction', 'Age', 'Outcome']\n",
    "\n",
    "# Carregar o dataset\n",
    "df = pd.read_csv(url, header=None, names=column_names)\n",
    "\n",
    "# Exibir as primeiras linhas do dataset\n",
    "df.head()"
   ]
  },
  {
   "cell_type": "markdown",
   "metadata": {},
   "source": [
    "## *Limpeza e Pré-Processamento dos dados*"
   ]
  },
  {
   "cell_type": "markdown",
   "metadata": {},
   "source": [
    "Verificando se há valores ausentes (null)\n"
   ]
  },
  {
   "cell_type": "code",
   "execution_count": 22,
   "metadata": {},
   "outputs": [
    {
     "name": "stdout",
     "output_type": "stream",
     "text": [
      "Valores ausentes por coluna:\n",
      "Pregnancies                 0\n",
      "Glucose                     0\n",
      "BloodPressure               0\n",
      "SkinThickness               0\n",
      "Insulin                     0\n",
      "BMI                         0\n",
      "DiabetesPedigreeFunction    0\n",
      "Age                         0\n",
      "Outcome                     0\n",
      "dtype: int64\n"
     ]
    }
   ],
   "source": [
    "print(\"Valores ausentes por coluna:\")\n",
    "print(df.isnull().sum())"
   ]
  },
  {
   "cell_type": "markdown",
   "metadata": {},
   "source": [
    "Obtendo informações sobre os tipos dos dados e verificando a existencia de dados nulos\n"
   ]
  },
  {
   "cell_type": "code",
   "execution_count": 23,
   "metadata": {},
   "outputs": [
    {
     "name": "stdout",
     "output_type": "stream",
     "text": [
      "<class 'pandas.core.frame.DataFrame'>\n",
      "RangeIndex: 768 entries, 0 to 767\n",
      "Data columns (total 9 columns):\n",
      " #   Column                    Non-Null Count  Dtype  \n",
      "---  ------                    --------------  -----  \n",
      " 0   Pregnancies               768 non-null    int64  \n",
      " 1   Glucose                   768 non-null    int64  \n",
      " 2   BloodPressure             768 non-null    int64  \n",
      " 3   SkinThickness             768 non-null    int64  \n",
      " 4   Insulin                   768 non-null    int64  \n",
      " 5   BMI                       768 non-null    float64\n",
      " 6   DiabetesPedigreeFunction  768 non-null    float64\n",
      " 7   Age                       768 non-null    int64  \n",
      " 8   Outcome                   768 non-null    int64  \n",
      "dtypes: float64(2), int64(7)\n",
      "memory usage: 54.1 KB\n"
     ]
    }
   ],
   "source": [
    "df.info()"
   ]
  },
  {
   "cell_type": "code",
   "execution_count": null,
   "metadata": {},
   "outputs": [
    {
     "name": "stdout",
     "output_type": "stream",
     "text": [
      "   Gravidez  Glicose  PressãoArterial  GorduraCorporal  Insulina   IMC  \\\n",
      "0         6      148               72               35         0  33.6   \n",
      "1         1       85               66               29         0  26.6   \n",
      "2         8      183               64                0         0  23.3   \n",
      "3         1       89               66               23        94  28.1   \n",
      "4         0      137               40               35       168  43.1   \n",
      "\n",
      "   RiscoDiabetesGenetica  Idade  Resultado  \n",
      "0                  0.627     50          1  \n",
      "1                  0.351     31          0  \n",
      "2                  0.672     32          1  \n",
      "3                  0.167     21          0  \n",
      "4                  2.288     33          1  \n"
     ]
    }
   ],
   "source": [
    "# Dicionário de mapeamento para renomear as colunas\n",
    "colunas_ptbr = {\n",
    "    'Pregnancies': 'Gravidez',\n",
    "    'Glucose': 'Glicose',\n",
    "    'BloodPressure': 'PressãoArterial',\n",
    "    'SkinThickness': 'GorduraCorporal',\n",
    "    'Insulin': 'Insulina',\n",
    "    'BMI': 'IMC',\n",
    "    'DiabetesPedigreeFunction': 'RiscoDiabetesGenetica',\n",
    "    'Age': 'Idade',\n",
    "    'Outcome': 'Resultado' # 0 = Não possui diabetes, 1 = Possui diabetes\n",
    "}\n",
    "\n",
    "# Renomear as colunas do DataFrame\n",
    "df.rename(columns=colunas_ptbr, inplace=True)\n",
    "\n",
    "# Verifique o DataFrame renomeado\n",
    "print(df.head())"
   ]
  },
  {
   "cell_type": "markdown",
   "metadata": {},
   "source": [
    "## *Análises descritivas e de correlações*"
   ]
  },
  {
   "cell_type": "markdown",
   "metadata": {},
   "source": [
    "Visualização descritiva do DataSet"
   ]
  },
  {
   "cell_type": "code",
   "execution_count": 37,
   "metadata": {},
   "outputs": [
    {
     "data": {
      "text/html": [
       "<div>\n",
       "<style scoped>\n",
       "    .dataframe tbody tr th:only-of-type {\n",
       "        vertical-align: middle;\n",
       "    }\n",
       "\n",
       "    .dataframe tbody tr th {\n",
       "        vertical-align: top;\n",
       "    }\n",
       "\n",
       "    .dataframe thead th {\n",
       "        text-align: right;\n",
       "    }\n",
       "</style>\n",
       "<table border=\"1\" class=\"dataframe\">\n",
       "  <thead>\n",
       "    <tr style=\"text-align: right;\">\n",
       "      <th></th>\n",
       "      <th>Gravidez</th>\n",
       "      <th>Glicose</th>\n",
       "      <th>PressãoArterial</th>\n",
       "      <th>GorduraCorporal</th>\n",
       "      <th>Insulina</th>\n",
       "      <th>IMC</th>\n",
       "      <th>RiscoDiabetesGenetica</th>\n",
       "      <th>Idade</th>\n",
       "      <th>Resultado</th>\n",
       "    </tr>\n",
       "  </thead>\n",
       "  <tbody>\n",
       "    <tr>\n",
       "      <th>count</th>\n",
       "      <td>768.000000</td>\n",
       "      <td>768.000000</td>\n",
       "      <td>768.000000</td>\n",
       "      <td>768.000000</td>\n",
       "      <td>768.000000</td>\n",
       "      <td>768.000000</td>\n",
       "      <td>768.000000</td>\n",
       "      <td>768.000000</td>\n",
       "      <td>768.000000</td>\n",
       "    </tr>\n",
       "    <tr>\n",
       "      <th>mean</th>\n",
       "      <td>3.845052</td>\n",
       "      <td>120.894531</td>\n",
       "      <td>69.105469</td>\n",
       "      <td>20.536458</td>\n",
       "      <td>79.799479</td>\n",
       "      <td>31.992578</td>\n",
       "      <td>0.471876</td>\n",
       "      <td>33.240885</td>\n",
       "      <td>0.348958</td>\n",
       "    </tr>\n",
       "    <tr>\n",
       "      <th>std</th>\n",
       "      <td>3.369578</td>\n",
       "      <td>31.972618</td>\n",
       "      <td>19.355807</td>\n",
       "      <td>15.952218</td>\n",
       "      <td>115.244002</td>\n",
       "      <td>7.884160</td>\n",
       "      <td>0.331329</td>\n",
       "      <td>11.760232</td>\n",
       "      <td>0.476951</td>\n",
       "    </tr>\n",
       "    <tr>\n",
       "      <th>min</th>\n",
       "      <td>0.000000</td>\n",
       "      <td>0.000000</td>\n",
       "      <td>0.000000</td>\n",
       "      <td>0.000000</td>\n",
       "      <td>0.000000</td>\n",
       "      <td>0.000000</td>\n",
       "      <td>0.078000</td>\n",
       "      <td>21.000000</td>\n",
       "      <td>0.000000</td>\n",
       "    </tr>\n",
       "    <tr>\n",
       "      <th>25%</th>\n",
       "      <td>1.000000</td>\n",
       "      <td>99.000000</td>\n",
       "      <td>62.000000</td>\n",
       "      <td>0.000000</td>\n",
       "      <td>0.000000</td>\n",
       "      <td>27.300000</td>\n",
       "      <td>0.243750</td>\n",
       "      <td>24.000000</td>\n",
       "      <td>0.000000</td>\n",
       "    </tr>\n",
       "    <tr>\n",
       "      <th>50%</th>\n",
       "      <td>3.000000</td>\n",
       "      <td>117.000000</td>\n",
       "      <td>72.000000</td>\n",
       "      <td>23.000000</td>\n",
       "      <td>30.500000</td>\n",
       "      <td>32.000000</td>\n",
       "      <td>0.372500</td>\n",
       "      <td>29.000000</td>\n",
       "      <td>0.000000</td>\n",
       "    </tr>\n",
       "    <tr>\n",
       "      <th>75%</th>\n",
       "      <td>6.000000</td>\n",
       "      <td>140.250000</td>\n",
       "      <td>80.000000</td>\n",
       "      <td>32.000000</td>\n",
       "      <td>127.250000</td>\n",
       "      <td>36.600000</td>\n",
       "      <td>0.626250</td>\n",
       "      <td>41.000000</td>\n",
       "      <td>1.000000</td>\n",
       "    </tr>\n",
       "    <tr>\n",
       "      <th>max</th>\n",
       "      <td>17.000000</td>\n",
       "      <td>199.000000</td>\n",
       "      <td>122.000000</td>\n",
       "      <td>99.000000</td>\n",
       "      <td>846.000000</td>\n",
       "      <td>67.100000</td>\n",
       "      <td>2.420000</td>\n",
       "      <td>81.000000</td>\n",
       "      <td>1.000000</td>\n",
       "    </tr>\n",
       "  </tbody>\n",
       "</table>\n",
       "</div>"
      ],
      "text/plain": [
       "         Gravidez     Glicose  PressãoArterial  GorduraCorporal    Insulina  \\\n",
       "count  768.000000  768.000000       768.000000       768.000000  768.000000   \n",
       "mean     3.845052  120.894531        69.105469        20.536458   79.799479   \n",
       "std      3.369578   31.972618        19.355807        15.952218  115.244002   \n",
       "min      0.000000    0.000000         0.000000         0.000000    0.000000   \n",
       "25%      1.000000   99.000000        62.000000         0.000000    0.000000   \n",
       "50%      3.000000  117.000000        72.000000        23.000000   30.500000   \n",
       "75%      6.000000  140.250000        80.000000        32.000000  127.250000   \n",
       "max     17.000000  199.000000       122.000000        99.000000  846.000000   \n",
       "\n",
       "              IMC  RiscoDiabetesGenetica       Idade   Resultado  \n",
       "count  768.000000             768.000000  768.000000  768.000000  \n",
       "mean    31.992578               0.471876   33.240885    0.348958  \n",
       "std      7.884160               0.331329   11.760232    0.476951  \n",
       "min      0.000000               0.078000   21.000000    0.000000  \n",
       "25%     27.300000               0.243750   24.000000    0.000000  \n",
       "50%     32.000000               0.372500   29.000000    0.000000  \n",
       "75%     36.600000               0.626250   41.000000    1.000000  \n",
       "max     67.100000               2.420000   81.000000    1.000000  "
      ]
     },
     "execution_count": 37,
     "metadata": {},
     "output_type": "execute_result"
    }
   ],
   "source": [
    "df.describe()"
   ]
  },
  {
   "cell_type": "markdown",
   "metadata": {},
   "source": [
    "Matriz de Correlação"
   ]
  },
  {
   "cell_type": "code",
   "execution_count": 38,
   "metadata": {},
   "outputs": [
    {
     "name": "stdout",
     "output_type": "stream",
     "text": [
      "Matriz de Correlação:\n"
     ]
    },
    {
     "data": {
      "text/html": [
       "<div>\n",
       "<style scoped>\n",
       "    .dataframe tbody tr th:only-of-type {\n",
       "        vertical-align: middle;\n",
       "    }\n",
       "\n",
       "    .dataframe tbody tr th {\n",
       "        vertical-align: top;\n",
       "    }\n",
       "\n",
       "    .dataframe thead th {\n",
       "        text-align: right;\n",
       "    }\n",
       "</style>\n",
       "<table border=\"1\" class=\"dataframe\">\n",
       "  <thead>\n",
       "    <tr style=\"text-align: right;\">\n",
       "      <th></th>\n",
       "      <th>Gravidez</th>\n",
       "      <th>Glicose</th>\n",
       "      <th>PressãoArterial</th>\n",
       "      <th>GorduraCorporal</th>\n",
       "      <th>Insulina</th>\n",
       "      <th>IMC</th>\n",
       "      <th>RiscoDiabetesGenetica</th>\n",
       "      <th>Idade</th>\n",
       "      <th>Resultado</th>\n",
       "    </tr>\n",
       "  </thead>\n",
       "  <tbody>\n",
       "    <tr>\n",
       "      <th>Gravidez</th>\n",
       "      <td>1.000000</td>\n",
       "      <td>0.129459</td>\n",
       "      <td>0.141282</td>\n",
       "      <td>-0.081672</td>\n",
       "      <td>-0.073535</td>\n",
       "      <td>0.017683</td>\n",
       "      <td>-0.033523</td>\n",
       "      <td>0.544341</td>\n",
       "      <td>0.221898</td>\n",
       "    </tr>\n",
       "    <tr>\n",
       "      <th>Glicose</th>\n",
       "      <td>0.129459</td>\n",
       "      <td>1.000000</td>\n",
       "      <td>0.152590</td>\n",
       "      <td>0.057328</td>\n",
       "      <td>0.331357</td>\n",
       "      <td>0.221071</td>\n",
       "      <td>0.137337</td>\n",
       "      <td>0.263514</td>\n",
       "      <td>0.466581</td>\n",
       "    </tr>\n",
       "    <tr>\n",
       "      <th>PressãoArterial</th>\n",
       "      <td>0.141282</td>\n",
       "      <td>0.152590</td>\n",
       "      <td>1.000000</td>\n",
       "      <td>0.207371</td>\n",
       "      <td>0.088933</td>\n",
       "      <td>0.281805</td>\n",
       "      <td>0.041265</td>\n",
       "      <td>0.239528</td>\n",
       "      <td>0.065068</td>\n",
       "    </tr>\n",
       "    <tr>\n",
       "      <th>GorduraCorporal</th>\n",
       "      <td>-0.081672</td>\n",
       "      <td>0.057328</td>\n",
       "      <td>0.207371</td>\n",
       "      <td>1.000000</td>\n",
       "      <td>0.436783</td>\n",
       "      <td>0.392573</td>\n",
       "      <td>0.183928</td>\n",
       "      <td>-0.113970</td>\n",
       "      <td>0.074752</td>\n",
       "    </tr>\n",
       "    <tr>\n",
       "      <th>Insulina</th>\n",
       "      <td>-0.073535</td>\n",
       "      <td>0.331357</td>\n",
       "      <td>0.088933</td>\n",
       "      <td>0.436783</td>\n",
       "      <td>1.000000</td>\n",
       "      <td>0.197859</td>\n",
       "      <td>0.185071</td>\n",
       "      <td>-0.042163</td>\n",
       "      <td>0.130548</td>\n",
       "    </tr>\n",
       "    <tr>\n",
       "      <th>IMC</th>\n",
       "      <td>0.017683</td>\n",
       "      <td>0.221071</td>\n",
       "      <td>0.281805</td>\n",
       "      <td>0.392573</td>\n",
       "      <td>0.197859</td>\n",
       "      <td>1.000000</td>\n",
       "      <td>0.140647</td>\n",
       "      <td>0.036242</td>\n",
       "      <td>0.292695</td>\n",
       "    </tr>\n",
       "    <tr>\n",
       "      <th>RiscoDiabetesGenetica</th>\n",
       "      <td>-0.033523</td>\n",
       "      <td>0.137337</td>\n",
       "      <td>0.041265</td>\n",
       "      <td>0.183928</td>\n",
       "      <td>0.185071</td>\n",
       "      <td>0.140647</td>\n",
       "      <td>1.000000</td>\n",
       "      <td>0.033561</td>\n",
       "      <td>0.173844</td>\n",
       "    </tr>\n",
       "    <tr>\n",
       "      <th>Idade</th>\n",
       "      <td>0.544341</td>\n",
       "      <td>0.263514</td>\n",
       "      <td>0.239528</td>\n",
       "      <td>-0.113970</td>\n",
       "      <td>-0.042163</td>\n",
       "      <td>0.036242</td>\n",
       "      <td>0.033561</td>\n",
       "      <td>1.000000</td>\n",
       "      <td>0.238356</td>\n",
       "    </tr>\n",
       "    <tr>\n",
       "      <th>Resultado</th>\n",
       "      <td>0.221898</td>\n",
       "      <td>0.466581</td>\n",
       "      <td>0.065068</td>\n",
       "      <td>0.074752</td>\n",
       "      <td>0.130548</td>\n",
       "      <td>0.292695</td>\n",
       "      <td>0.173844</td>\n",
       "      <td>0.238356</td>\n",
       "      <td>1.000000</td>\n",
       "    </tr>\n",
       "  </tbody>\n",
       "</table>\n",
       "</div>"
      ],
      "text/plain": [
       "                       Gravidez   Glicose  PressãoArterial  GorduraCorporal  \\\n",
       "Gravidez               1.000000  0.129459         0.141282        -0.081672   \n",
       "Glicose                0.129459  1.000000         0.152590         0.057328   \n",
       "PressãoArterial        0.141282  0.152590         1.000000         0.207371   \n",
       "GorduraCorporal       -0.081672  0.057328         0.207371         1.000000   \n",
       "Insulina              -0.073535  0.331357         0.088933         0.436783   \n",
       "IMC                    0.017683  0.221071         0.281805         0.392573   \n",
       "RiscoDiabetesGenetica -0.033523  0.137337         0.041265         0.183928   \n",
       "Idade                  0.544341  0.263514         0.239528        -0.113970   \n",
       "Resultado              0.221898  0.466581         0.065068         0.074752   \n",
       "\n",
       "                       Insulina       IMC  RiscoDiabetesGenetica     Idade  \\\n",
       "Gravidez              -0.073535  0.017683              -0.033523  0.544341   \n",
       "Glicose                0.331357  0.221071               0.137337  0.263514   \n",
       "PressãoArterial        0.088933  0.281805               0.041265  0.239528   \n",
       "GorduraCorporal        0.436783  0.392573               0.183928 -0.113970   \n",
       "Insulina               1.000000  0.197859               0.185071 -0.042163   \n",
       "IMC                    0.197859  1.000000               0.140647  0.036242   \n",
       "RiscoDiabetesGenetica  0.185071  0.140647               1.000000  0.033561   \n",
       "Idade                 -0.042163  0.036242               0.033561  1.000000   \n",
       "Resultado              0.130548  0.292695               0.173844  0.238356   \n",
       "\n",
       "                       Resultado  \n",
       "Gravidez                0.221898  \n",
       "Glicose                 0.466581  \n",
       "PressãoArterial         0.065068  \n",
       "GorduraCorporal         0.074752  \n",
       "Insulina                0.130548  \n",
       "IMC                     0.292695  \n",
       "RiscoDiabetesGenetica   0.173844  \n",
       "Idade                   0.238356  \n",
       "Resultado               1.000000  "
      ]
     },
     "execution_count": 38,
     "metadata": {},
     "output_type": "execute_result"
    }
   ],
   "source": [
    "print ('Matriz de Correlação:') \n",
    "df.corr()"
   ]
  },
  {
   "cell_type": "code",
   "execution_count": 39,
   "metadata": {},
   "outputs": [
    {
     "data": {
      "image/png": "[encoded data removed]",
      "text/plain": [
       "<Figure size 1000x800 with 2 Axes>"
      ]
     },
     "metadata": {},
     "output_type": "display_data"
    }
   ],
   "source": [
    "correlation_matrix = df.corr()\n",
    "plt.figure(figsize=(10, 8))\n",
    "sns.heatmap(correlation_matrix, annot=True, cmap='coolwarm', fmt='.2f')\n",
    "plt.title('Heatmap da Matriz de Correlação')\n",
    "plt.show()"
   ]
  },
  {
   "cell_type": "markdown",
   "metadata": {},
   "source": [
    "## *Correlações das variáveis com a \"variável resposta\"*"
   ]
  },
  {
   "cell_type": "code",
   "execution_count": 41,
   "metadata": {},
   "outputs": [
    {
     "name": "stdout",
     "output_type": "stream",
     "text": [
      "Resultado                1.000000\n",
      "Glicose                  0.466581\n",
      "IMC                      0.292695\n",
      "Idade                    0.238356\n",
      "Gravidez                 0.221898\n",
      "RiscoDiabetesGenetica    0.173844\n",
      "Insulina                 0.130548\n",
      "GorduraCorporal          0.074752\n",
      "PressãoArterial          0.065068\n",
      "Name: Resultado, dtype: float64\n"
     ]
    }
   ],
   "source": [
    "correlation_matrix = df.corr()\n",
    "diabetes_correlation = correlation_matrix['Resultado'].sort_values(ascending=False)\n",
    "print(diabetes_correlation)"
   ]
  },
  {
   "cell_type": "markdown",
   "metadata": {},
   "source": [
    "## *Treinamento do Modelo*"
   ]
  },
  {
   "cell_type": "code",
   "execution_count": 42,
   "metadata": {},
   "outputs": [],
   "source": [
    "acuracia_modelo1 = []\n",
    "acuracia_modelo2 = []\n",
    "acuracia_modelo3 = []\n",
    "\n",
    "precisao_modelo1 = []\n",
    "precisao_modelo2 = []\n",
    "precisao_modelo3 = []"
   ]
  },
  {
   "cell_type": "code",
   "execution_count": null,
   "metadata": {},
   "outputs": [],
   "source": [
    "X = df[['Glicose', 'IMC', 'Idade', 'Gravidez', 'RiscoDiabetesGenetica', 'Insulina', 'GorduraCorporal', 'PressãoArterial']]\n",
    "Y = df['Resultado']\n",
    "    "
   ]
  },
  {
   "cell_type": "code",
   "execution_count": 45,
   "metadata": {},
   "outputs": [],
   "source": [
    "np.random.seed(14)\n",
    "\n",
    "iteracoes = 50\n",
    "train_size = 0.70\n",
    "\n",
    "for i in range(iteracoes):\n",
    "\n",
    "    X_treino, X_teste, Y_treino, Y_teste = train_test_split(X, Y, train_size = train_size)\n",
    "\n",
    "    # Modelo 1 =  SVM\n",
    "    model1 = SVC()\n",
    "    model1.fit(X_treino, Y_treino)\n",
    "\n",
    "    # Modelo 2 =  Random Forest\n",
    "    model2 = RandomForestClassifier(n_estimators=1000)\n",
    "    model2.fit(X_treino, Y_treino)\n",
    "\n",
    "    # Modelo 3 =  KNN\n",
    "    model3 = KNeighborsClassifier(n_neighbors=5)\n",
    "    model3.fit(X_treino, Y_treino)\n",
    "\n",
    "    predictions1 = model1.predict(X_teste)\n",
    "    acuracia_modelo1.append(accuracy_score(Y_teste, predictions1))\n",
    "    precisao_modelo1.append(precision_score(Y_teste, predictions1))\n",
    "\n",
    "    predictions2 = model2.predict(X_teste)\n",
    "    acuracia_modelo2.append(accuracy_score(Y_teste, predictions2))\n",
    "    precisao_modelo2.append(precision_score(Y_teste, predictions2))\n",
    "\n",
    "    predictions3 = model3.predict(X_teste)\n",
    "    acuracia_modelo3.append(accuracy_score(Y_teste, predictions3))\n",
    "    precisao_modelo3.append(precision_score(Y_teste, predictions3))\n",
    "\n"
   ]
  },
  {
   "cell_type": "markdown",
   "metadata": {},
   "source": [
    "## *Avaliação do Modelo*"
   ]
  },
  {
   "cell_type": "code",
   "execution_count": 47,
   "metadata": {},
   "outputs": [
    {
     "name": "stdout",
     "output_type": "stream",
     "text": [
      "Média acurácia modelo 1:\n",
      "0.76\n",
      "Média acurácia modelo 2:\n",
      "0.76\n",
      "Média acurácia modelo 3:\n",
      "0.72\n"
     ]
    }
   ],
   "source": [
    "print('Média acurácia modelo 1:')\n",
    "print(np.round(np.mean(acuracia_modelo1),2))\n",
    "print('Média acurácia modelo 2:')\n",
    "print(np.round(np.mean(acuracia_modelo2),2))\n",
    "print('Média acurácia modelo 3:')\n",
    "print(np.round(np.mean(acuracia_modelo3),2))"
   ]
  },
  {
   "cell_type": "code",
   "execution_count": 48,
   "metadata": {},
   "outputs": [
    {
     "name": "stdout",
     "output_type": "stream",
     "text": [
      "Média precisão modelo 1:\n",
      "0.73\n",
      "Média precisão modelo 2:\n",
      "0.68\n",
      "Média precisão modelo 3:\n",
      "0.61\n"
     ]
    }
   ],
   "source": [
    "print('Média precisão modelo 1:')\n",
    "print(np.round(np.mean(precisao_modelo1),2))\n",
    "print('Média precisão modelo 2:')\n",
    "print(np.round(np.mean(precisao_modelo2),2))\n",
    "print('Média precisão modelo 3:')\n",
    "print(np.round(np.mean(precisao_modelo3),2))"
   ]
  },
  {
   "cell_type": "code",
   "execution_count": 49,
   "metadata": {},
   "outputs": [
    {
     "data": {
      "image/png": "[encoded data removed]",
      "text/plain": [
       "<Figure size 640x480 with 1 Axes>"
      ]
     },
     "metadata": {},
     "output_type": "display_data"
    }
   ],
   "source": [
    "dados_resultados_acuracia =[acuracia_modelo1, acuracia_modelo2, acuracia_modelo3]\n",
    "\n",
    "plt.boxplot(dados_resultados_acuracia)\n",
    "plt.title(\"Boxplot da amostra de acerto dos modelos\")\n",
    "plt.show()"
   ]
  },
  {
   "cell_type": "code",
   "execution_count": 50,
   "metadata": {},
   "outputs": [
    {
     "data": {
      "image/png": "[encoded data removed]",
      "text/plain": [
       "<Figure size 640x480 with 1 Axes>"
      ]
     },
     "metadata": {},
     "output_type": "display_data"
    }
   ],
   "source": [
    "dados_resultados_precisao =[precisao_modelo1, precisao_modelo2, precisao_modelo3]\n",
    "\n",
    "plt.boxplot(dados_resultados_precisao)\n",
    "plt.title(\"Boxplot da amostra de precisão dos modelos para a classe 1\")\n",
    "plt.show()"
   ]
  },
  {
   "cell_type": "markdown",
   "metadata": {},
   "source": [
    "## *Predição (Uso) do Modelo*"
   ]
  },
  {
   "cell_type": "code",
   "execution_count": null,
   "metadata": {},
   "outputs": [],
   "source": [
    "glicose = int(input('Informe o nível de glicose do paciente: '))\n",
    "imc = float(input('Informe o índice de massa corporal (IMC) do paciente: '))\n",
    "idade = int(input('Informe a idade do paciente: '))\n",
    "gravidez = int(input('Informe o número de gravidez do paciente: '))\n",
    "risco_diabetes_genetica = float(input('Informe a função de pedigree de diabetes do paciente: '))\n",
    "insulina = int(input('Informe o nível de insulina do paciente: '))\n",
    "gordura_corporal = int(input('Informe a gordura corporal do paciente: '))\n",
    "pressao = int(input('Informe a pressão arterial observada do paciente: '))\n",
    "\n",
    "# colunas_ptbr = {\n",
    "#     'Pregnancies': 'Gravidez',\n",
    "#     'Glucose': 'Glicose',\n",
    "#     'BloodPressure': 'PressãoArterial',\n",
    "#     'SkinThickness': 'GorduraCorporal',\n",
    "#     'Insulin': 'Insulina',\n",
    "#     'BMI': 'IMC',\n",
    "#     'DiabetesPedigreeFunction': 'RiscoDiabetesGenetica',\n",
    "#     'Age': 'Idade',\n",
    "#     'Outcome': 'Resultado' # 0 = Não possui diabetes, 1 = Possui diabetes\n",
    "# }\n"
   ]
  },
  {
   "cell_type": "code",
   "execution_count": 64,
   "metadata": {},
   "outputs": [
    {
     "name": "stdout",
     "output_type": "stream",
     "text": [
      "Pouca chance de desenvolver Diabetes\n"
     ]
    }
   ],
   "source": [
    "novo_paciente = [[glicose, imc, idade, gravidez, risco_diabetes_genetica, insulina, gordura_corporal, pressao]]\n",
    "variaveis = ['Glicose', 'IMC', 'Idade','Gravidez', 'RiscoDiabetesGenetica', 'Insulina', 'GorduraCorporal', 'PressãoArterial']\n",
    "novo_paciente =  pd.DataFrame(novo_paciente, columns = variaveis)\n",
    "resposta = model1.predict(novo_paciente)    #Troque  o X pelo melhor número do melhor modelo (1, 2 ou 3?)\n",
    "\n",
    "for i in range(len(resposta)):\n",
    "  if resposta[i] == 1.0 :\n",
    "    print('Muita chance de desenvolver Diabetes')\n",
    "  else:\n",
    "    print('Pouca chance de desenvolver Diabetes')"
   ]
  },
  {
   "cell_type": "markdown",
   "metadata": {},
   "source": [
    "## *Salvando em um novo CSV p/ análises futuras*\n"
   ]
  },
  {
   "cell_type": "code",
   "execution_count": 46,
   "metadata": {},
   "outputs": [
    {
     "name": "stdout",
     "output_type": "stream",
     "text": [
      "Arquivo salvo como Pima_Indians.csv\n"
     ]
    }
   ],
   "source": [
    "df.to_csv('Pima_Indians.csv', index=False)\n",
    "print('Arquivo salvo como Pima_Indians.csv')"
   ]
  }
 ],
 "metadata": {
  "kernelspec": {
   "display_name": "Python 3",
   "language": "python",
   "name": "python3"
  },
  "language_info": {
   "codemirror_mode": {
    "name": "ipython",
    "version": 3
   },
   "file_extension": ".py",
   "mimetype": "text/x-python",
   "name": "python",
   "nbconvert_exporter": "python",
   "pygments_lexer": "ipython3",
   "version": "3.12.7"
  }
 },
 "nbformat": 4,
 "nbformat_minor": 2
}
